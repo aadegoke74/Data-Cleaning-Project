{
 "cells": [
  {
   "cell_type": "markdown",
   "id": "02b9118d",
   "metadata": {},
   "source": [
    "## Adedayo Adegoke Portfolio"
   ]
  },
  {
   "cell_type": "markdown",
   "id": "fdcc58cc",
   "metadata": {},
   "source": [
    "**Data Cleaning Tasks:**\n",
    "\n",
    "Some of the variables in the ports.csv datasets are not presented in a format suitable for\n",
    "the calculation of statistics in their original format.\n",
    "\n",
    "**1. (a) The dataset ports.csv contains missing values.**\n",
    "Create and test a Python script that will identify, and either remove rows that\n",
    "contain missing data from your DataFrame, or better, fill any missing values\n",
    "with suitable values.\n",
    "\n",
    "  **(b) The dataset ports.csv contains duplicate rows.**\n",
    "Create and test a Python script that will identify and remove any duplicate\n",
    "rows from your DataFrame.\n",
    "\n",
    "**2. (a) The rain column is in text format due to the mm unit in some of the rows.**\n",
    "Create and test a Python script that will convert the rain column into\n",
    "numerical format, e.g. \"3.1mm” should become 3.1\n",
    "\n",
    " **(b) The labour column has a mixture of formats.**\n",
    " In 2021 the values used are ‘0’ and ‘1’, whilst in 2022 the values used are ‘striking’ and ‘working’. However\n",
    "for the purposes of analysis ‘0’ is equivalent to ‘striking’ and ‘1’ to ‘working’\n",
    "\n",
    "### Create and test a Python script that will convert the labour column into a consistent format containing only the values working or striking."
   ]
  },
  {
   "cell_type": "markdown",
   "id": "4d5681d6",
   "metadata": {},
   "source": [
    "This initial section focuses on preparing the 'ports.csv' dataset for analysis. It addresses the need to reformat certain variables that are not initially suitable for statistical calculations."
   ]
  },
  {
   "cell_type": "markdown",
   "id": "d936c165",
   "metadata": {},
   "source": [
    "In the context of dataset analysis, Renear, A.H., Sacchi, S. and Wickett, K.M. (2010) in their work \"Definitions of dataset in the scientific and technical literature\" (Proceedings of the American Society for Information Science and Technology, 47(1), pp.1–4) underscore the significance of clearly defining variables for accurate interpretation and analysis. The dataset for this project is describe below:\n",
    "\n",
    "Time (Target Variable): The primary variable of interest, representing the duration we aim to predict.\n",
    "\n",
    "TEU (Total Equivalent Units): This metric quantifies a ship's cargo capacity, vital for understanding loading efficiency.\n",
    "\n",
    "Loadratio: A ratio depicting the actual versus potential cargo load of a ship, indicating operational efficiency.\n",
    "\n",
    "Gear: This likely refers to the equipment utilized in cargo handling, a factor influencing operational time.\n",
    "\n",
    "Wind: Wind speed is included as it can significantly affect loading and unloading operations.\n",
    "\n",
    "Rain: Precipitation is a critical factor, potentially impacting loading/unloading efficiency.\n",
    "\n",
    "Weather: This categorical variable describes overall weather conditions, providing context for operational delays or efficiencies.\n",
    "\n",
    "onSchedule: Indicates whether a ship adheres to its schedule, a factor that could lead to prioritized handling.\n",
    "\n",
    "Labour: Reflects workforce status, directly correlating with operational time and efficiency.\n",
    "\n",
    "Origin: The ship's origin could influence handling time due to varying cargo types and loading procedures.\n",
    "\n",
    "Understanding these variables is crucial for comprehensively analysing the dataset and deriving meaningful conclusions, aligning with Renear et al.’s emphasis on the importance of precise variable definition in data analysis."
   ]
  },
  {
   "cell_type": "markdown",
   "id": "fc021fd2",
   "metadata": {},
   "source": [
    "## Task 1"
   ]
  },
  {
   "cell_type": "markdown",
   "id": "f3da0163",
   "metadata": {},
   "source": [
    "To identify and replace any cells containing missing data in the DataFrame, I will follow these steps:\n",
    "\n",
    "Load the data from the CSV file into a pandas DataFrame.\n",
    "Examine the data to identify which columns are numerical and which are categorical.\n",
    "For numerical columns: Calculate the mean of the column. Replace missing values with the mean of that column.\n",
    "For categorical columns: Determine the mode (most common value) of the column. Replace missing values with the mode of that column."
   ]
  },
  {
   "cell_type": "code",
   "execution_count": 6,
   "id": "74cdcc80",
   "metadata": {
    "ExecuteTime": {
     "end_time": "2024-01-22T23:24:08.511890Z",
     "start_time": "2024-01-22T23:24:08.478881Z"
    }
   },
   "outputs": [
    {
     "name": "stdout",
     "output_type": "stream",
     "text": [
      "(1006, 13)\n"
     ]
    },
    {
     "data": {
      "text/html": [
       "<div>\n",
       "<style scoped>\n",
       "    .dataframe tbody tr th:only-of-type {\n",
       "        vertical-align: middle;\n",
       "    }\n",
       "\n",
       "    .dataframe tbody tr th {\n",
       "        vertical-align: top;\n",
       "    }\n",
       "\n",
       "    .dataframe thead th {\n",
       "        text-align: right;\n",
       "    }\n",
       "</style>\n",
       "<table border=\"1\" class=\"dataframe\">\n",
       "  <thead>\n",
       "    <tr style=\"text-align: right;\">\n",
       "      <th></th>\n",
       "      <th>time</th>\n",
       "      <th>TEU</th>\n",
       "      <th>loadratio</th>\n",
       "      <th>gear</th>\n",
       "      <th>wind</th>\n",
       "      <th>rain</th>\n",
       "      <th>weather</th>\n",
       "      <th>onSchedule</th>\n",
       "      <th>labour</th>\n",
       "      <th>origin</th>\n",
       "      <th>delay</th>\n",
       "      <th>date</th>\n",
       "      <th>port</th>\n",
       "    </tr>\n",
       "  </thead>\n",
       "  <tbody>\n",
       "    <tr>\n",
       "      <th>0</th>\n",
       "      <td>263.2</td>\n",
       "      <td>8645</td>\n",
       "      <td>85.4</td>\n",
       "      <td>0.0</td>\n",
       "      <td>3.9</td>\n",
       "      <td>8.4</td>\n",
       "      <td>disruptive</td>\n",
       "      <td>Yes</td>\n",
       "      <td>working</td>\n",
       "      <td>Intercontinental</td>\n",
       "      <td>No</td>\n",
       "      <td>2022-11-01</td>\n",
       "      <td>Abermouth</td>\n",
       "    </tr>\n",
       "    <tr>\n",
       "      <th>1</th>\n",
       "      <td>177.9</td>\n",
       "      <td>2106</td>\n",
       "      <td>80.8</td>\n",
       "      <td>1.0</td>\n",
       "      <td>7.5</td>\n",
       "      <td>7.7mm</td>\n",
       "      <td>disruptive</td>\n",
       "      <td>Yes</td>\n",
       "      <td>1</td>\n",
       "      <td>Intercontinental</td>\n",
       "      <td>Yes</td>\n",
       "      <td>2021-09-09</td>\n",
       "      <td>Abermouth</td>\n",
       "    </tr>\n",
       "    <tr>\n",
       "      <th>2</th>\n",
       "      <td>269.3</td>\n",
       "      <td>7872</td>\n",
       "      <td>90.4</td>\n",
       "      <td>3.0</td>\n",
       "      <td>6.9</td>\n",
       "      <td>19.3mm</td>\n",
       "      <td>disruptive</td>\n",
       "      <td>Yes</td>\n",
       "      <td>1</td>\n",
       "      <td>Intercontinental</td>\n",
       "      <td>No</td>\n",
       "      <td>2021-08-05</td>\n",
       "      <td>Abermouth</td>\n",
       "    </tr>\n",
       "    <tr>\n",
       "      <th>3</th>\n",
       "      <td>122.2</td>\n",
       "      <td>1938</td>\n",
       "      <td>72.2</td>\n",
       "      <td>1.0</td>\n",
       "      <td>8.9</td>\n",
       "      <td>3.8</td>\n",
       "      <td>normal</td>\n",
       "      <td>Yes</td>\n",
       "      <td>working</td>\n",
       "      <td>UK</td>\n",
       "      <td>No</td>\n",
       "      <td>2022-11-03</td>\n",
       "      <td>Abermouth</td>\n",
       "    </tr>\n",
       "    <tr>\n",
       "      <th>4</th>\n",
       "      <td>165.0</td>\n",
       "      <td>1669</td>\n",
       "      <td>80.0</td>\n",
       "      <td>4.0</td>\n",
       "      <td>2.0</td>\n",
       "      <td>0.1</td>\n",
       "      <td>normal</td>\n",
       "      <td>No</td>\n",
       "      <td>striking</td>\n",
       "      <td>UK</td>\n",
       "      <td>Yes</td>\n",
       "      <td>2022-02-01</td>\n",
       "      <td>Abermouth</td>\n",
       "    </tr>\n",
       "  </tbody>\n",
       "</table>\n",
       "</div>"
      ],
      "text/plain": [
       "    time   TEU  loadratio  gear  wind    rain     weather onSchedule  \\\n",
       "0  263.2  8645       85.4   0.0   3.9     8.4  disruptive        Yes   \n",
       "1  177.9  2106       80.8   1.0   7.5   7.7mm  disruptive        Yes   \n",
       "2  269.3  7872       90.4   3.0   6.9  19.3mm  disruptive        Yes   \n",
       "3  122.2  1938       72.2   1.0   8.9     3.8      normal        Yes   \n",
       "4  165.0  1669       80.0   4.0   2.0     0.1      normal         No   \n",
       "\n",
       "     labour            origin delay        date       port  \n",
       "0   working  Intercontinental    No  2022-11-01  Abermouth  \n",
       "1         1  Intercontinental   Yes  2021-09-09  Abermouth  \n",
       "2         1  Intercontinental    No  2021-08-05  Abermouth  \n",
       "3   working                UK    No  2022-11-03  Abermouth  \n",
       "4  striking                UK   Yes  2022-02-01  Abermouth  "
      ]
     },
     "execution_count": 6,
     "metadata": {},
     "output_type": "execute_result"
    }
   ],
   "source": [
    "# Loading necessary library\n",
    "import pandas as pd\n",
    "import matplotlib.pyplot as plt\n",
    "import seaborn as sns\n",
    "import numpy as np \n",
    "import statistics as stat\n",
    "\n",
    "\n",
    "# Load the data\n",
    "ports = pd.read_csv(\"ports.csv\")\n",
    "\n",
    "# Display the first few rows of the DataFrame to understand its structure\n",
    "print(ports.shape)\n",
    "ports.head()"
   ]
  },
  {
   "cell_type": "code",
   "execution_count": 2,
   "id": "b142658e",
   "metadata": {
    "ExecuteTime": {
     "end_time": "2024-01-22T23:20:43.027098Z",
     "start_time": "2024-01-22T23:20:42.901814Z"
    }
   },
   "outputs": [
    {
     "data": {
      "text/html": [
       "<div>\n",
       "<style scoped>\n",
       "    .dataframe tbody tr th:only-of-type {\n",
       "        vertical-align: middle;\n",
       "    }\n",
       "\n",
       "    .dataframe tbody tr th {\n",
       "        vertical-align: top;\n",
       "    }\n",
       "\n",
       "    .dataframe thead th {\n",
       "        text-align: right;\n",
       "    }\n",
       "</style>\n",
       "<table border=\"1\" class=\"dataframe\">\n",
       "  <thead>\n",
       "    <tr style=\"text-align: right;\">\n",
       "      <th></th>\n",
       "      <th>time</th>\n",
       "      <th>TEU</th>\n",
       "      <th>loadratio</th>\n",
       "      <th>gear</th>\n",
       "      <th>wind</th>\n",
       "    </tr>\n",
       "  </thead>\n",
       "  <tbody>\n",
       "    <tr>\n",
       "      <th>count</th>\n",
       "      <td>1006.000000</td>\n",
       "      <td>1006.000000</td>\n",
       "      <td>1006.000000</td>\n",
       "      <td>994.000000</td>\n",
       "      <td>985.000000</td>\n",
       "    </tr>\n",
       "    <tr>\n",
       "      <th>mean</th>\n",
       "      <td>242.009742</td>\n",
       "      <td>6175.164016</td>\n",
       "      <td>80.049503</td>\n",
       "      <td>1.816901</td>\n",
       "      <td>5.702234</td>\n",
       "    </tr>\n",
       "    <tr>\n",
       "      <th>std</th>\n",
       "      <td>85.278670</td>\n",
       "      <td>3615.173895</td>\n",
       "      <td>9.739284</td>\n",
       "      <td>1.474413</td>\n",
       "      <td>4.157579</td>\n",
       "    </tr>\n",
       "    <tr>\n",
       "      <th>min</th>\n",
       "      <td>49.400000</td>\n",
       "      <td>205.000000</td>\n",
       "      <td>42.500000</td>\n",
       "      <td>0.000000</td>\n",
       "      <td>0.100000</td>\n",
       "    </tr>\n",
       "    <tr>\n",
       "      <th>25%</th>\n",
       "      <td>177.900000</td>\n",
       "      <td>2930.250000</td>\n",
       "      <td>73.900000</td>\n",
       "      <td>1.000000</td>\n",
       "      <td>2.600000</td>\n",
       "    </tr>\n",
       "    <tr>\n",
       "      <th>50%</th>\n",
       "      <td>231.400000</td>\n",
       "      <td>6274.000000</td>\n",
       "      <td>80.100000</td>\n",
       "      <td>2.000000</td>\n",
       "      <td>4.800000</td>\n",
       "    </tr>\n",
       "    <tr>\n",
       "      <th>75%</th>\n",
       "      <td>295.475000</td>\n",
       "      <td>9420.750000</td>\n",
       "      <td>86.800000</td>\n",
       "      <td>3.000000</td>\n",
       "      <td>8.100000</td>\n",
       "    </tr>\n",
       "    <tr>\n",
       "      <th>max</th>\n",
       "      <td>582.000000</td>\n",
       "      <td>11999.000000</td>\n",
       "      <td>100.000000</td>\n",
       "      <td>6.000000</td>\n",
       "      <td>25.500000</td>\n",
       "    </tr>\n",
       "  </tbody>\n",
       "</table>\n",
       "</div>"
      ],
      "text/plain": [
       "              time           TEU    loadratio        gear        wind\n",
       "count  1006.000000   1006.000000  1006.000000  994.000000  985.000000\n",
       "mean    242.009742   6175.164016    80.049503    1.816901    5.702234\n",
       "std      85.278670   3615.173895     9.739284    1.474413    4.157579\n",
       "min      49.400000    205.000000    42.500000    0.000000    0.100000\n",
       "25%     177.900000   2930.250000    73.900000    1.000000    2.600000\n",
       "50%     231.400000   6274.000000    80.100000    2.000000    4.800000\n",
       "75%     295.475000   9420.750000    86.800000    3.000000    8.100000\n",
       "max     582.000000  11999.000000   100.000000    6.000000   25.500000"
      ]
     },
     "execution_count": 2,
     "metadata": {},
     "output_type": "execute_result"
    }
   ],
   "source": [
    "#Comprehensive Statistical Overview of Ports Dataset\n",
    "ports.describe()"
   ]
  },
  {
   "cell_type": "markdown",
   "id": "602e13c4",
   "metadata": {},
   "source": [
    "Dataset consist the 1006 rows with the 13 columns consisting of both numberical and categorical variables. The 'rain' column, which is numerical but erroneously read as an object due to the presence of strings like \"7.7mm\".\n",
    "\n",
    "The labour column has inconsistent mixture of data types. This is why the summary statistics could not be described for them using the describe() keyword."
   ]
  },
  {
   "cell_type": "markdown",
   "id": "dc291f42",
   "metadata": {
    "ExecuteTime": {
     "end_time": "2024-01-22T23:21:20.783678Z",
     "start_time": "2024-01-22T23:21:20.767325Z"
    }
   },
   "source": [
    "Next, I will identify missing data in the DataFrame and replace with their mean value."
   ]
  },
  {
   "cell_type": "markdown",
   "id": "13bf5a0f",
   "metadata": {},
   "source": []
  },
  {
   "cell_type": "markdown",
   "id": "df1a4e7a",
   "metadata": {},
   "source": []
  },
  {
   "cell_type": "code",
   "execution_count": 4,
   "id": "1fc33321",
   "metadata": {
    "ExecuteTime": {
     "end_time": "2024-01-22T23:21:59.230676Z",
     "start_time": "2024-01-22T23:21:59.210378Z"
    }
   },
   "outputs": [
    {
     "name": "stdout",
     "output_type": "stream",
     "text": [
      "Missing values in each column:\n",
      "time           0\n",
      "TEU            0\n",
      "loadratio      0\n",
      "gear          12\n",
      "wind          21\n",
      "rain           0\n",
      "weather        0\n",
      "onSchedule     0\n",
      "labour         0\n",
      "origin         0\n",
      "delay          0\n",
      "date           0\n",
      "port           0\n",
      "dtype: int64\n",
      "Columns with missing values:\n",
      "Index(['gear', 'wind'], dtype='object')\n",
      "Shape of the dataset:\n",
      "(1006, 13)\n"
     ]
    }
   ],
   "source": [
    "# Check for missing values in each column\n",
    "missing_values = ports.isnull().sum()\n",
    "print(\"Missing values in each column:\")\n",
    "print(missing_values)\n",
    "\n",
    "# Identify columns with missing values\n",
    "columns_with_missing_values = missing_values[missing_values > 0].index\n",
    "print(\"Columns with missing values:\")\n",
    "print(columns_with_missing_values)\n",
    "\n",
    "# Print the shape of the dataset\n",
    "print(\"Shape of the dataset:\")\n",
    "print(ports.shape)"
   ]
  },
  {
   "cell_type": "markdown",
   "id": "2544912e",
   "metadata": {},
   "source": [
    "Initial state of the dataset for comparison: The ports dataset, encompassing 1006 entries and 13 attributes, reveals missing values exclusively in the 'gear' and 'wind' columns, 12 and 21 instances, respectively. This indicates a need for careful handling or imputation in these areas, ensuring robust analysis while maintaining the dataset's comprehensive scope."
   ]
  },
  {
   "cell_type": "markdown",
   "id": "80e006d2",
   "metadata": {},
   "source": [
    "Renaming the DataFrame to ports_replacemissing is a strategic decision in data analysis, particularly when dealing with multiple DataFrames or stages in data processing. It is beneficial in the follwing ways:\n",
    "\n",
    "Clarity and Context\n",
    "Avoiding Conflicts\n",
    "Facilitating Modular Code\n",
    "Preparing for Data Cleaning or Transformation Tasks"
   ]
  },
  {
   "cell_type": "code",
   "execution_count": 8,
   "id": "8db91588",
   "metadata": {
    "ExecuteTime": {
     "end_time": "2024-01-22T23:32:06.310969Z",
     "start_time": "2024-01-22T23:32:06.122369Z"
    }
   },
   "outputs": [
    {
     "name": "stdout",
     "output_type": "stream",
     "text": [
      "(1006, 13)\n"
     ]
    },
    {
     "data": {
      "text/html": [
       "<div>\n",
       "<style scoped>\n",
       "    .dataframe tbody tr th:only-of-type {\n",
       "        vertical-align: middle;\n",
       "    }\n",
       "\n",
       "    .dataframe tbody tr th {\n",
       "        vertical-align: top;\n",
       "    }\n",
       "\n",
       "    .dataframe thead th {\n",
       "        text-align: right;\n",
       "    }\n",
       "</style>\n",
       "<table border=\"1\" class=\"dataframe\">\n",
       "  <thead>\n",
       "    <tr style=\"text-align: right;\">\n",
       "      <th></th>\n",
       "      <th>time</th>\n",
       "      <th>TEU</th>\n",
       "      <th>loadratio</th>\n",
       "      <th>gear</th>\n",
       "      <th>wind</th>\n",
       "      <th>rain</th>\n",
       "      <th>weather</th>\n",
       "      <th>onSchedule</th>\n",
       "      <th>labour</th>\n",
       "      <th>origin</th>\n",
       "      <th>delay</th>\n",
       "      <th>date</th>\n",
       "      <th>port</th>\n",
       "    </tr>\n",
       "  </thead>\n",
       "  <tbody>\n",
       "    <tr>\n",
       "      <th>0</th>\n",
       "      <td>263.2</td>\n",
       "      <td>8645</td>\n",
       "      <td>85.4</td>\n",
       "      <td>0.0</td>\n",
       "      <td>3.9</td>\n",
       "      <td>8.4</td>\n",
       "      <td>disruptive</td>\n",
       "      <td>Yes</td>\n",
       "      <td>working</td>\n",
       "      <td>Intercontinental</td>\n",
       "      <td>No</td>\n",
       "      <td>2022-11-01</td>\n",
       "      <td>Abermouth</td>\n",
       "    </tr>\n",
       "    <tr>\n",
       "      <th>1</th>\n",
       "      <td>177.9</td>\n",
       "      <td>2106</td>\n",
       "      <td>80.8</td>\n",
       "      <td>1.0</td>\n",
       "      <td>7.5</td>\n",
       "      <td>7.7mm</td>\n",
       "      <td>disruptive</td>\n",
       "      <td>Yes</td>\n",
       "      <td>1</td>\n",
       "      <td>Intercontinental</td>\n",
       "      <td>Yes</td>\n",
       "      <td>2021-09-09</td>\n",
       "      <td>Abermouth</td>\n",
       "    </tr>\n",
       "    <tr>\n",
       "      <th>2</th>\n",
       "      <td>269.3</td>\n",
       "      <td>7872</td>\n",
       "      <td>90.4</td>\n",
       "      <td>3.0</td>\n",
       "      <td>6.9</td>\n",
       "      <td>19.3mm</td>\n",
       "      <td>disruptive</td>\n",
       "      <td>Yes</td>\n",
       "      <td>1</td>\n",
       "      <td>Intercontinental</td>\n",
       "      <td>No</td>\n",
       "      <td>2021-08-05</td>\n",
       "      <td>Abermouth</td>\n",
       "    </tr>\n",
       "    <tr>\n",
       "      <th>3</th>\n",
       "      <td>122.2</td>\n",
       "      <td>1938</td>\n",
       "      <td>72.2</td>\n",
       "      <td>1.0</td>\n",
       "      <td>8.9</td>\n",
       "      <td>3.8</td>\n",
       "      <td>normal</td>\n",
       "      <td>Yes</td>\n",
       "      <td>working</td>\n",
       "      <td>UK</td>\n",
       "      <td>No</td>\n",
       "      <td>2022-11-03</td>\n",
       "      <td>Abermouth</td>\n",
       "    </tr>\n",
       "    <tr>\n",
       "      <th>4</th>\n",
       "      <td>165.0</td>\n",
       "      <td>1669</td>\n",
       "      <td>80.0</td>\n",
       "      <td>4.0</td>\n",
       "      <td>2.0</td>\n",
       "      <td>0.1</td>\n",
       "      <td>normal</td>\n",
       "      <td>No</td>\n",
       "      <td>striking</td>\n",
       "      <td>UK</td>\n",
       "      <td>Yes</td>\n",
       "      <td>2022-02-01</td>\n",
       "      <td>Abermouth</td>\n",
       "    </tr>\n",
       "  </tbody>\n",
       "</table>\n",
       "</div>"
      ],
      "text/plain": [
       "    time   TEU  loadratio  gear  wind    rain     weather onSchedule  \\\n",
       "0  263.2  8645       85.4   0.0   3.9     8.4  disruptive        Yes   \n",
       "1  177.9  2106       80.8   1.0   7.5   7.7mm  disruptive        Yes   \n",
       "2  269.3  7872       90.4   3.0   6.9  19.3mm  disruptive        Yes   \n",
       "3  122.2  1938       72.2   1.0   8.9     3.8      normal        Yes   \n",
       "4  165.0  1669       80.0   4.0   2.0     0.1      normal         No   \n",
       "\n",
       "     labour            origin delay        date       port  \n",
       "0   working  Intercontinental    No  2022-11-01  Abermouth  \n",
       "1         1  Intercontinental   Yes  2021-09-09  Abermouth  \n",
       "2         1  Intercontinental    No  2021-08-05  Abermouth  \n",
       "3   working                UK    No  2022-11-03  Abermouth  \n",
       "4  striking                UK   Yes  2022-02-01  Abermouth  "
      ]
     },
     "execution_count": 8,
     "metadata": {},
     "output_type": "execute_result"
    }
   ],
   "source": [
    "# Loading necessary library\n",
    "import pandas as pd\n",
    "import matplotlib.pyplot as plt\n",
    "import seaborn as sns\n",
    "import numpy as np \n",
    "import statistics as stat\n",
    "\n",
    "# Load the data\n",
    "ports_replacemissing = pd.read_csv(\"ports.csv\")\n",
    "\n",
    "# Display the first few rows of the DataFrame to understand its structure\n",
    "print(ports_replacemissing.shape)\n",
    "ports_replacemissing.head()"
   ]
  },
  {
   "cell_type": "markdown",
   "id": "dcd914f3",
   "metadata": {},
   "source": [
    "Deliberately renaming the DataFrame to ports_replacemissing is a good practice in data analysis, as it provides clarity, prevents potential conflicts, and sets the stage for specific data processing tasks."
   ]
  },
  {
   "cell_type": "markdown",
   "id": "b34a8eb3",
   "metadata": {},
   "source": [
    "## Data cleansing and wrangling"
   ]
  },
  {
   "cell_type": "markdown",
   "id": "29efdd73",
   "metadata": {},
   "source": [
    "Various methods have been used historically for missing values imputation. Dadi, K et al. (2021) used mean for imputation as it maintains the column's overall distribution and it is widely used. Therefore missing values for Gear and Wind shall be replaced their mean."
   ]
  },
  {
   "cell_type": "code",
   "execution_count": 9,
   "id": "c8f65ec1",
   "metadata": {
    "ExecuteTime": {
     "end_time": "2024-01-22T23:33:58.208179Z",
     "start_time": "2024-01-22T23:33:58.183174Z"
    }
   },
   "outputs": [
    {
     "name": "stdout",
     "output_type": "stream",
     "text": [
      "\n",
      "Dataset after replacing missing values with their mean:\n"
     ]
    },
    {
     "data": {
      "text/html": [
       "<div>\n",
       "<style scoped>\n",
       "    .dataframe tbody tr th:only-of-type {\n",
       "        vertical-align: middle;\n",
       "    }\n",
       "\n",
       "    .dataframe tbody tr th {\n",
       "        vertical-align: top;\n",
       "    }\n",
       "\n",
       "    .dataframe thead th {\n",
       "        text-align: right;\n",
       "    }\n",
       "</style>\n",
       "<table border=\"1\" class=\"dataframe\">\n",
       "  <thead>\n",
       "    <tr style=\"text-align: right;\">\n",
       "      <th></th>\n",
       "      <th>time</th>\n",
       "      <th>TEU</th>\n",
       "      <th>loadratio</th>\n",
       "      <th>gear</th>\n",
       "      <th>wind</th>\n",
       "      <th>rain</th>\n",
       "      <th>weather</th>\n",
       "      <th>onSchedule</th>\n",
       "      <th>labour</th>\n",
       "      <th>origin</th>\n",
       "      <th>delay</th>\n",
       "      <th>date</th>\n",
       "      <th>port</th>\n",
       "    </tr>\n",
       "  </thead>\n",
       "  <tbody>\n",
       "    <tr>\n",
       "      <th>0</th>\n",
       "      <td>263.2</td>\n",
       "      <td>8645</td>\n",
       "      <td>85.4</td>\n",
       "      <td>0.0</td>\n",
       "      <td>3.9</td>\n",
       "      <td>8.4</td>\n",
       "      <td>disruptive</td>\n",
       "      <td>Yes</td>\n",
       "      <td>working</td>\n",
       "      <td>Intercontinental</td>\n",
       "      <td>No</td>\n",
       "      <td>2022-11-01</td>\n",
       "      <td>Abermouth</td>\n",
       "    </tr>\n",
       "    <tr>\n",
       "      <th>1</th>\n",
       "      <td>177.9</td>\n",
       "      <td>2106</td>\n",
       "      <td>80.8</td>\n",
       "      <td>1.0</td>\n",
       "      <td>7.5</td>\n",
       "      <td>7.7mm</td>\n",
       "      <td>disruptive</td>\n",
       "      <td>Yes</td>\n",
       "      <td>1</td>\n",
       "      <td>Intercontinental</td>\n",
       "      <td>Yes</td>\n",
       "      <td>2021-09-09</td>\n",
       "      <td>Abermouth</td>\n",
       "    </tr>\n",
       "    <tr>\n",
       "      <th>2</th>\n",
       "      <td>269.3</td>\n",
       "      <td>7872</td>\n",
       "      <td>90.4</td>\n",
       "      <td>3.0</td>\n",
       "      <td>6.9</td>\n",
       "      <td>19.3mm</td>\n",
       "      <td>disruptive</td>\n",
       "      <td>Yes</td>\n",
       "      <td>1</td>\n",
       "      <td>Intercontinental</td>\n",
       "      <td>No</td>\n",
       "      <td>2021-08-05</td>\n",
       "      <td>Abermouth</td>\n",
       "    </tr>\n",
       "    <tr>\n",
       "      <th>3</th>\n",
       "      <td>122.2</td>\n",
       "      <td>1938</td>\n",
       "      <td>72.2</td>\n",
       "      <td>1.0</td>\n",
       "      <td>8.9</td>\n",
       "      <td>3.8</td>\n",
       "      <td>normal</td>\n",
       "      <td>Yes</td>\n",
       "      <td>working</td>\n",
       "      <td>UK</td>\n",
       "      <td>No</td>\n",
       "      <td>2022-11-03</td>\n",
       "      <td>Abermouth</td>\n",
       "    </tr>\n",
       "    <tr>\n",
       "      <th>4</th>\n",
       "      <td>165.0</td>\n",
       "      <td>1669</td>\n",
       "      <td>80.0</td>\n",
       "      <td>4.0</td>\n",
       "      <td>2.0</td>\n",
       "      <td>0.1</td>\n",
       "      <td>normal</td>\n",
       "      <td>No</td>\n",
       "      <td>striking</td>\n",
       "      <td>UK</td>\n",
       "      <td>Yes</td>\n",
       "      <td>2022-02-01</td>\n",
       "      <td>Abermouth</td>\n",
       "    </tr>\n",
       "  </tbody>\n",
       "</table>\n",
       "</div>"
      ],
      "text/plain": [
       "    time   TEU  loadratio  gear  wind    rain     weather onSchedule  \\\n",
       "0  263.2  8645       85.4   0.0   3.9     8.4  disruptive        Yes   \n",
       "1  177.9  2106       80.8   1.0   7.5   7.7mm  disruptive        Yes   \n",
       "2  269.3  7872       90.4   3.0   6.9  19.3mm  disruptive        Yes   \n",
       "3  122.2  1938       72.2   1.0   8.9     3.8      normal        Yes   \n",
       "4  165.0  1669       80.0   4.0   2.0     0.1      normal         No   \n",
       "\n",
       "     labour            origin delay        date       port  \n",
       "0   working  Intercontinental    No  2022-11-01  Abermouth  \n",
       "1         1  Intercontinental   Yes  2021-09-09  Abermouth  \n",
       "2         1  Intercontinental    No  2021-08-05  Abermouth  \n",
       "3   working                UK    No  2022-11-03  Abermouth  \n",
       "4  striking                UK   Yes  2022-02-01  Abermouth  "
      ]
     },
     "execution_count": 9,
     "metadata": {},
     "output_type": "execute_result"
    }
   ],
   "source": [
    "# replace missing values with mean for each numeric column\n",
    "for col in ports_replacemissing.select_dtypes(include=['float64', 'int64']):\n",
    "    ports_replacemissing[col].fillna(ports_replacemissing[col].mean(), inplace=True)\n",
    "\n",
    "# Print the dataset after replacing missing values\n",
    "print(\"\\nDataset after replacing missing values with their mean:\")\n",
    "ports_replacemissing.head()"
   ]
  },
  {
   "cell_type": "code",
   "execution_count": 10,
   "id": "9d61ab1d",
   "metadata": {
    "ExecuteTime": {
     "end_time": "2024-01-22T23:34:32.747225Z",
     "start_time": "2024-01-22T23:34:32.715945Z"
    }
   },
   "outputs": [
    {
     "name": "stdout",
     "output_type": "stream",
     "text": [
      "Missing values in each column:\n",
      "time          0\n",
      "TEU           0\n",
      "loadratio     0\n",
      "gear          0\n",
      "wind          0\n",
      "rain          0\n",
      "weather       0\n",
      "onSchedule    0\n",
      "labour        0\n",
      "origin        0\n",
      "delay         0\n",
      "date          0\n",
      "port          0\n",
      "dtype: int64\n",
      "Shape of the dataset after removing rows with missing data:\n",
      "(1006, 13)\n"
     ]
    }
   ],
   "source": [
    "# Check for missing values in each column\n",
    "missing_values = ports_replacemissing.isnull().sum()\n",
    "print(\"Missing values in each column:\")\n",
    "print(missing_values)\n",
    "\n",
    "# Remove rows with missing data\n",
    "ports_replacemissing = ports_replacemissing.dropna()\n",
    "\n",
    "# Print the shape of the DataFrame after removing rows with missing data\n",
    "print(\"Shape of the dataset after removing rows with missing data:\")\n",
    "print(ports_replacemissing.shape)"
   ]
  },
  {
   "cell_type": "markdown",
   "id": "b53b222a",
   "metadata": {},
   "source": [
    "## QUESTION 1(b)"
   ]
  },
  {
   "cell_type": "markdown",
   "id": "48b408c6",
   "metadata": {},
   "source": [
    "To identify and remove any duplicate rows from the DataFrame, I will:\n",
    "\n",
    "Use the duplicated() method to identify any duplicate rows, marking them as True if they are duplicates.\n",
    "Use the drop_duplicates() method to remove the duplicate rows.\n",
    "I will then display the number of duplicate rows identified and removed."
   ]
  },
  {
   "cell_type": "code",
   "execution_count": 12,
   "id": "5acc19d4",
   "metadata": {
    "ExecuteTime": {
     "end_time": "2024-01-22T23:36:08.640883Z",
     "start_time": "2024-01-22T23:36:08.603036Z"
    }
   },
   "outputs": [
    {
     "name": "stdout",
     "output_type": "stream",
     "text": [
      "6\n"
     ]
    }
   ],
   "source": [
    "#Identifying duplicate rows\n",
    "duplicate_rows = ports_replacemissing.duplicated()\n",
    "num_duplicates = duplicate_rows.sum()\n",
    "\n",
    "# Displaying the number of duplicate rows\n",
    "print(num_duplicates)"
   ]
  },
  {
   "cell_type": "markdown",
   "id": "09edb83d",
   "metadata": {},
   "source": [
    "The dataset contains 6 duplicate rows. I will now remove these duplicates and confirm their removal.\n",
    "\n",
    "Damodaram (2022) and Steorts (2023) emphasise the importance of removing duplicates in data management and analysis, highlighting its role in maintaining data integrity and quality.\n",
    "\n",
    "The below code identifies and displays the number of duplicate rows in the 'ports' DataFrame."
   ]
  },
  {
   "cell_type": "code",
   "execution_count": 13,
   "id": "ed085067",
   "metadata": {
    "ExecuteTime": {
     "end_time": "2024-01-22T23:36:47.188520Z",
     "start_time": "2024-01-22T23:36:47.162709Z"
    }
   },
   "outputs": [
    {
     "name": "stdout",
     "output_type": "stream",
     "text": [
      "0 (1000, 13)\n"
     ]
    }
   ],
   "source": [
    "# Removing duplicate rows\n",
    "ports_replacemissing = ports_replacemissing.drop_duplicates()\n",
    "\n",
    "# Verifying if duplicates are removed\n",
    "remaining_duplicates = ports_replacemissing.duplicated().sum()\n",
    "\n",
    "# Display the result\n",
    "remaining_duplicates, ports_replacemissing.shape\n",
    "print(remaining_duplicates, ports_replacemissing.shape)"
   ]
  },
  {
   "cell_type": "markdown",
   "id": "02eaeb68",
   "metadata": {},
   "source": [
    "I have successfully removed six duplicates rows from our dataset. As a result, the dataset now comprises 1000 rows and 13 columns."
   ]
  },
  {
   "cell_type": "markdown",
   "id": "d7a87268",
   "metadata": {},
   "source": [
    "## QUESTION 2 (a) Convert the rain column from text to numerical format.¶"
   ]
  },
  {
   "cell_type": "markdown",
   "id": "6aac1f07",
   "metadata": {},
   "source": [
    "I will strip the \"mm\" from the values and convert the column to a float type."
   ]
  },
  {
   "cell_type": "code",
   "execution_count": 14,
   "id": "69b39a68",
   "metadata": {
    "ExecuteTime": {
     "end_time": "2024-01-22T23:38:15.539188Z",
     "start_time": "2024-01-22T23:38:15.437512Z"
    }
   },
   "outputs": [
    {
     "data": {
      "text/html": [
       "<div>\n",
       "<style scoped>\n",
       "    .dataframe tbody tr th:only-of-type {\n",
       "        vertical-align: middle;\n",
       "    }\n",
       "\n",
       "    .dataframe tbody tr th {\n",
       "        vertical-align: top;\n",
       "    }\n",
       "\n",
       "    .dataframe thead th {\n",
       "        text-align: right;\n",
       "    }\n",
       "</style>\n",
       "<table border=\"1\" class=\"dataframe\">\n",
       "  <thead>\n",
       "    <tr style=\"text-align: right;\">\n",
       "      <th></th>\n",
       "      <th>time</th>\n",
       "      <th>TEU</th>\n",
       "      <th>loadratio</th>\n",
       "      <th>gear</th>\n",
       "      <th>wind</th>\n",
       "      <th>rain</th>\n",
       "      <th>weather</th>\n",
       "      <th>onSchedule</th>\n",
       "      <th>labour</th>\n",
       "      <th>origin</th>\n",
       "      <th>delay</th>\n",
       "      <th>date</th>\n",
       "      <th>port</th>\n",
       "    </tr>\n",
       "  </thead>\n",
       "  <tbody>\n",
       "    <tr>\n",
       "      <th>0</th>\n",
       "      <td>263.2</td>\n",
       "      <td>8645</td>\n",
       "      <td>85.4</td>\n",
       "      <td>0.0</td>\n",
       "      <td>3.9</td>\n",
       "      <td>8.4</td>\n",
       "      <td>disruptive</td>\n",
       "      <td>Yes</td>\n",
       "      <td>working</td>\n",
       "      <td>Intercontinental</td>\n",
       "      <td>No</td>\n",
       "      <td>2022-11-01</td>\n",
       "      <td>Abermouth</td>\n",
       "    </tr>\n",
       "    <tr>\n",
       "      <th>1</th>\n",
       "      <td>177.9</td>\n",
       "      <td>2106</td>\n",
       "      <td>80.8</td>\n",
       "      <td>1.0</td>\n",
       "      <td>7.5</td>\n",
       "      <td>7.7</td>\n",
       "      <td>disruptive</td>\n",
       "      <td>Yes</td>\n",
       "      <td>1</td>\n",
       "      <td>Intercontinental</td>\n",
       "      <td>Yes</td>\n",
       "      <td>2021-09-09</td>\n",
       "      <td>Abermouth</td>\n",
       "    </tr>\n",
       "    <tr>\n",
       "      <th>2</th>\n",
       "      <td>269.3</td>\n",
       "      <td>7872</td>\n",
       "      <td>90.4</td>\n",
       "      <td>3.0</td>\n",
       "      <td>6.9</td>\n",
       "      <td>19.3</td>\n",
       "      <td>disruptive</td>\n",
       "      <td>Yes</td>\n",
       "      <td>1</td>\n",
       "      <td>Intercontinental</td>\n",
       "      <td>No</td>\n",
       "      <td>2021-08-05</td>\n",
       "      <td>Abermouth</td>\n",
       "    </tr>\n",
       "    <tr>\n",
       "      <th>3</th>\n",
       "      <td>122.2</td>\n",
       "      <td>1938</td>\n",
       "      <td>72.2</td>\n",
       "      <td>1.0</td>\n",
       "      <td>8.9</td>\n",
       "      <td>3.8</td>\n",
       "      <td>normal</td>\n",
       "      <td>Yes</td>\n",
       "      <td>working</td>\n",
       "      <td>UK</td>\n",
       "      <td>No</td>\n",
       "      <td>2022-11-03</td>\n",
       "      <td>Abermouth</td>\n",
       "    </tr>\n",
       "    <tr>\n",
       "      <th>4</th>\n",
       "      <td>165.0</td>\n",
       "      <td>1669</td>\n",
       "      <td>80.0</td>\n",
       "      <td>4.0</td>\n",
       "      <td>2.0</td>\n",
       "      <td>0.1</td>\n",
       "      <td>normal</td>\n",
       "      <td>No</td>\n",
       "      <td>striking</td>\n",
       "      <td>UK</td>\n",
       "      <td>Yes</td>\n",
       "      <td>2022-02-01</td>\n",
       "      <td>Abermouth</td>\n",
       "    </tr>\n",
       "  </tbody>\n",
       "</table>\n",
       "</div>"
      ],
      "text/plain": [
       "    time   TEU  loadratio  gear  wind  rain     weather onSchedule    labour  \\\n",
       "0  263.2  8645       85.4   0.0   3.9   8.4  disruptive        Yes   working   \n",
       "1  177.9  2106       80.8   1.0   7.5   7.7  disruptive        Yes         1   \n",
       "2  269.3  7872       90.4   3.0   6.9  19.3  disruptive        Yes         1   \n",
       "3  122.2  1938       72.2   1.0   8.9   3.8      normal        Yes   working   \n",
       "4  165.0  1669       80.0   4.0   2.0   0.1      normal         No  striking   \n",
       "\n",
       "             origin delay        date       port  \n",
       "0  Intercontinental    No  2022-11-01  Abermouth  \n",
       "1  Intercontinental   Yes  2021-09-09  Abermouth  \n",
       "2  Intercontinental    No  2021-08-05  Abermouth  \n",
       "3                UK    No  2022-11-03  Abermouth  \n",
       "4                UK   Yes  2022-02-01  Abermouth  "
      ]
     },
     "execution_count": 14,
     "metadata": {},
     "output_type": "execute_result"
    }
   ],
   "source": [
    " # Strip \"mm\" from the 'rain' column and convert to float\n",
    "# ports_replacemissing['rain'] = ports_replacemissing['rain'].str.replace('mm', '').astype(float)\n",
    "\n",
    "# # Display the modified data\n",
    "# ports_replacemissing.head()\n",
    "\n",
    "# Check if 'rain' column exists in the DataFrame, then strip \"mm\" and convert to float\n",
    "if 'rain' in ports_replacemissing.columns:\n",
    "    ports_replacemissing['rain'] = ports_replacemissing['rain'].str.replace('mm', '').astype(float)\n",
    "else:\n",
    "    print(\"The 'rain' column does not exist in the DataFrame.\")\n",
    "\n",
    "# Display the modified data\n",
    "ports_replacemissing.head()"
   ]
  },
  {
   "cell_type": "markdown",
   "id": "426266ee",
   "metadata": {},
   "source": [
    "The 'rain' column's \"mm\" values have been stripped, converting the data to a numerical type. It is crucial to format data appropriately for precise and efficient processing in data analysis. Take the 'rain' column as an example: changing values from a string format like \"3.1mm\" to a numerical one such as 3.1 is essential for quantitative analysis.\n",
    "\n",
    "Using numerical data allows for various statistical calculations, such as computing averages, examining correlations, and performing regression analyses, which are complex with string data."
   ]
  },
  {
   "cell_type": "markdown",
   "id": "ab8bb25b",
   "metadata": {},
   "source": [
    "## QUESTION 2 (b) Standardise the labour column to have consistent formatting."
   ]
  },
  {
   "cell_type": "markdown",
   "id": "54ceb200",
   "metadata": {},
   "source": [
    "I intend to unify the 'labour' column by substituting '0' with 'striking' and '1' with 'working', ensuring consistency throughout the column."
   ]
  },
  {
   "cell_type": "code",
   "execution_count": 15,
   "id": "5f5988dc",
   "metadata": {
    "ExecuteTime": {
     "end_time": "2024-01-22T23:39:31.274258Z",
     "start_time": "2024-01-22T23:39:31.246068Z"
    }
   },
   "outputs": [
    {
     "data": {
      "text/html": [
       "<div>\n",
       "<style scoped>\n",
       "    .dataframe tbody tr th:only-of-type {\n",
       "        vertical-align: middle;\n",
       "    }\n",
       "\n",
       "    .dataframe tbody tr th {\n",
       "        vertical-align: top;\n",
       "    }\n",
       "\n",
       "    .dataframe thead th {\n",
       "        text-align: right;\n",
       "    }\n",
       "</style>\n",
       "<table border=\"1\" class=\"dataframe\">\n",
       "  <thead>\n",
       "    <tr style=\"text-align: right;\">\n",
       "      <th></th>\n",
       "      <th>time</th>\n",
       "      <th>TEU</th>\n",
       "      <th>loadratio</th>\n",
       "      <th>gear</th>\n",
       "      <th>wind</th>\n",
       "      <th>rain</th>\n",
       "      <th>weather</th>\n",
       "      <th>onSchedule</th>\n",
       "      <th>labour</th>\n",
       "      <th>origin</th>\n",
       "      <th>delay</th>\n",
       "      <th>date</th>\n",
       "      <th>port</th>\n",
       "    </tr>\n",
       "  </thead>\n",
       "  <tbody>\n",
       "    <tr>\n",
       "      <th>0</th>\n",
       "      <td>263.2</td>\n",
       "      <td>8645</td>\n",
       "      <td>85.4</td>\n",
       "      <td>0.0</td>\n",
       "      <td>3.9</td>\n",
       "      <td>8.4</td>\n",
       "      <td>disruptive</td>\n",
       "      <td>Yes</td>\n",
       "      <td>working</td>\n",
       "      <td>Intercontinental</td>\n",
       "      <td>No</td>\n",
       "      <td>2022-11-01</td>\n",
       "      <td>Abermouth</td>\n",
       "    </tr>\n",
       "    <tr>\n",
       "      <th>1</th>\n",
       "      <td>177.9</td>\n",
       "      <td>2106</td>\n",
       "      <td>80.8</td>\n",
       "      <td>1.0</td>\n",
       "      <td>7.5</td>\n",
       "      <td>7.7</td>\n",
       "      <td>disruptive</td>\n",
       "      <td>Yes</td>\n",
       "      <td>working</td>\n",
       "      <td>Intercontinental</td>\n",
       "      <td>Yes</td>\n",
       "      <td>2021-09-09</td>\n",
       "      <td>Abermouth</td>\n",
       "    </tr>\n",
       "    <tr>\n",
       "      <th>2</th>\n",
       "      <td>269.3</td>\n",
       "      <td>7872</td>\n",
       "      <td>90.4</td>\n",
       "      <td>3.0</td>\n",
       "      <td>6.9</td>\n",
       "      <td>19.3</td>\n",
       "      <td>disruptive</td>\n",
       "      <td>Yes</td>\n",
       "      <td>working</td>\n",
       "      <td>Intercontinental</td>\n",
       "      <td>No</td>\n",
       "      <td>2021-08-05</td>\n",
       "      <td>Abermouth</td>\n",
       "    </tr>\n",
       "    <tr>\n",
       "      <th>3</th>\n",
       "      <td>122.2</td>\n",
       "      <td>1938</td>\n",
       "      <td>72.2</td>\n",
       "      <td>1.0</td>\n",
       "      <td>8.9</td>\n",
       "      <td>3.8</td>\n",
       "      <td>normal</td>\n",
       "      <td>Yes</td>\n",
       "      <td>working</td>\n",
       "      <td>UK</td>\n",
       "      <td>No</td>\n",
       "      <td>2022-11-03</td>\n",
       "      <td>Abermouth</td>\n",
       "    </tr>\n",
       "    <tr>\n",
       "      <th>4</th>\n",
       "      <td>165.0</td>\n",
       "      <td>1669</td>\n",
       "      <td>80.0</td>\n",
       "      <td>4.0</td>\n",
       "      <td>2.0</td>\n",
       "      <td>0.1</td>\n",
       "      <td>normal</td>\n",
       "      <td>No</td>\n",
       "      <td>striking</td>\n",
       "      <td>UK</td>\n",
       "      <td>Yes</td>\n",
       "      <td>2022-02-01</td>\n",
       "      <td>Abermouth</td>\n",
       "    </tr>\n",
       "  </tbody>\n",
       "</table>\n",
       "</div>"
      ],
      "text/plain": [
       "    time   TEU  loadratio  gear  wind  rain     weather onSchedule    labour  \\\n",
       "0  263.2  8645       85.4   0.0   3.9   8.4  disruptive        Yes   working   \n",
       "1  177.9  2106       80.8   1.0   7.5   7.7  disruptive        Yes   working   \n",
       "2  269.3  7872       90.4   3.0   6.9  19.3  disruptive        Yes   working   \n",
       "3  122.2  1938       72.2   1.0   8.9   3.8      normal        Yes   working   \n",
       "4  165.0  1669       80.0   4.0   2.0   0.1      normal         No  striking   \n",
       "\n",
       "             origin delay        date       port  \n",
       "0  Intercontinental    No  2022-11-01  Abermouth  \n",
       "1  Intercontinental   Yes  2021-09-09  Abermouth  \n",
       "2  Intercontinental    No  2021-08-05  Abermouth  \n",
       "3                UK    No  2022-11-03  Abermouth  \n",
       "4                UK   Yes  2022-02-01  Abermouth  "
      ]
     },
     "execution_count": 15,
     "metadata": {},
     "output_type": "execute_result"
    }
   ],
   "source": [
    "# Replace '0' with 'striking' and '1' with 'working' in the 'labour' column\n",
    "ports_replacemissing['labour'] = ports_replacemissing['labour'].replace({'0': 'striking', '1': 'working'})\n",
    "\n",
    "# Display the modified data\n",
    "ports_replacemissing.head()"
   ]
  },
  {
   "cell_type": "markdown",
   "id": "922bc834",
   "metadata": {},
   "source": [
    "I have made the 'labour' column consistent by replacing '0' with 'striking' and '1' with 'working'. This standardisation of categorical data, demonstrated by the transformation of '0' and '1' to 'striking' and 'working', enhances clarity and uniformity in the dataset. It not only aids in category-based analysis but also improves the readability of the data.\n",
    "\n",
    "This process of data cleaning and standardisation is crucial, as emphasised by Steorts (2023) in \"A Primer on the Data Cleaning Pipeline\" and Zacks, Kenett, and Gedeck (2023) in \"Modern Statistics: A Computer-Based Approach with Python Solutions.\" These authors underline the importance of thorough data preparation for achieving accurate and insightful analysis, highlighting the fundamental role of data preprocessing in statistics."
   ]
  },
  {
   "cell_type": "code",
   "execution_count": null,
   "id": "dd1f17b4",
   "metadata": {},
   "outputs": [],
   "source": []
  }
 ],
 "metadata": {
  "kernelspec": {
   "display_name": "Python 3 (ipykernel)",
   "language": "python",
   "name": "python3"
  },
  "language_info": {
   "codemirror_mode": {
    "name": "ipython",
    "version": 3
   },
   "file_extension": ".py",
   "mimetype": "text/x-python",
   "name": "python",
   "nbconvert_exporter": "python",
   "pygments_lexer": "ipython3",
   "version": "3.11.5"
  },
  "toc": {
   "base_numbering": 1,
   "nav_menu": {},
   "number_sections": true,
   "sideBar": true,
   "skip_h1_title": false,
   "title_cell": "Table of Contents",
   "title_sidebar": "Contents",
   "toc_cell": false,
   "toc_position": {},
   "toc_section_display": true,
   "toc_window_display": false
  },
  "varInspector": {
   "cols": {
    "lenName": 16,
    "lenType": 16,
    "lenVar": 40
   },
   "kernels_config": {
    "python": {
     "delete_cmd_postfix": "",
     "delete_cmd_prefix": "del ",
     "library": "var_list.py",
     "varRefreshCmd": "print(var_dic_list())"
    },
    "r": {
     "delete_cmd_postfix": ") ",
     "delete_cmd_prefix": "rm(",
     "library": "var_list.r",
     "varRefreshCmd": "cat(var_dic_list()) "
    }
   },
   "types_to_exclude": [
    "module",
    "function",
    "builtin_function_or_method",
    "instance",
    "_Feature"
   ],
   "window_display": false
  }
 },
 "nbformat": 4,
 "nbformat_minor": 5
}
